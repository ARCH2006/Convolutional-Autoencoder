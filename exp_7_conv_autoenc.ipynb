{
  "cells": [
    {
      "cell_type": "code",
      "execution_count": 2,
      "metadata": {
        "id": "er1NxYLI_bj1"
      },
      "outputs": [],
      "source": [
        "\n",
        "\n",
        "import torch\n",
        "import torch.nn as nn\n",
        "import torch.optim as optim\n",
        "from torch.utils.data import DataLoader\n",
        "from torchvision import datasets, transforms\n",
        "import matplotlib.pyplot as plt\n",
        "import numpy as np\n",
        "from torchsummary import summary"
      ]
    },
    {
      "cell_type": "code",
      "execution_count": 3,
      "metadata": {
        "id": "tluptBqI_1K6"
      },
      "outputs": [],
      "source": [
        "device = torch.device(\"cuda\" if torch.cuda.is_available() else \"cpu\")"
      ]
    },
    {
      "cell_type": "code",
      "execution_count": 4,
      "metadata": {
        "id": "Fe9WSK2j_-sz"
      },
      "outputs": [],
      "source": [
        "\n",
        "transform = transforms.Compose([\n",
        "    transforms.ToTensor()\n",
        "])"
      ]
    },
    {
      "cell_type": "code",
      "execution_count": 5,
      "metadata": {
        "colab": {
          "base_uri": "https://localhost:8080/"
        },
        "id": "foePR7O5AEHq",
        "outputId": "f5b3642d-b479-4b37-ee02-b88445be65d3"
      },
      "outputs": [
        {
          "output_type": "stream",
          "name": "stderr",
          "text": [
            "100%|██████████| 9.91M/9.91M [00:00<00:00, 16.1MB/s]\n",
            "100%|██████████| 28.9k/28.9k [00:00<00:00, 479kB/s]\n",
            "100%|██████████| 1.65M/1.65M [00:00<00:00, 3.83MB/s]\n",
            "100%|██████████| 4.54k/4.54k [00:00<00:00, 6.88MB/s]\n"
          ]
        }
      ],
      "source": [
        "\n",
        "dataset = datasets.MNIST(root='./data', train=True, download=True, transform=transform)\n",
        "test_dataset = datasets.MNIST(root='./data', train=False, download=True, transform=transform)\n",
        "\n",
        "train_loader = DataLoader(dataset, batch_size=128, shuffle=True)\n",
        "test_loader = DataLoader(test_dataset, batch_size=128, shuffle=False)"
      ]
    },
    {
      "cell_type": "code",
      "execution_count": 6,
      "metadata": {
        "id": "gq6UTRuQAH-R"
      },
      "outputs": [],
      "source": [
        "def add_noise(inputs, noise_factor=0.5):\n",
        "    noisy = inputs + noise_factor * torch.randn_like(inputs)\n",
        "    return torch.clamp(noisy, 0., 1.)\n"
      ]
    },
    {
      "cell_type": "code",
      "execution_count": 7,
      "metadata": {
        "id": "X6IyQCXMAWgB"
      },
      "outputs": [],
      "source": [
        "class DenoisingAutoencoder(nn.Module):\n",
        "    def __init__(self):\n",
        "        super(DenoisingAutoencoder, self).__init__()\n",
        "        self.encoder = nn.Sequential(\n",
        "            nn.Conv2d(1, 16, kernel_size=3, padding=1),  # 28x28 -> 28x28\n",
        "            nn.ReLU(),\n",
        "            nn.MaxPool2d(2, 2),  # 28x28 -> 14x14\n",
        "            nn.Conv2d(16, 8, kernel_size=3, padding=1),  # 14x14 -> 14x14\n",
        "            nn.ReLU(),\n",
        "            nn.MaxPool2d(2, 2)   # 14x14 -> 7x7\n",
        "        )\n",
        "        self.decoder = nn.Sequential(\n",
        "            nn.ConvTranspose2d(8, 16, kernel_size=2, stride=2),  # 7x7 -> 14x14\n",
        "            nn.ReLU(),\n",
        "            nn.ConvTranspose2d(16, 1, kernel_size=2, stride=2),  # 14x14 -> 28x28\n",
        "            nn.Sigmoid()  # Ensure output values between 0 and 1\n",
        "        )\n",
        "\n",
        "    def forward(self, x):\n",
        "        x = self.encoder(x)\n",
        "        x = self.decoder(x)\n",
        "        return x"
      ]
    },
    {
      "cell_type": "code",
      "execution_count": 8,
      "metadata": {
        "id": "CAebY_nvAaQC"
      },
      "outputs": [],
      "source": [
        "\n",
        "model = DenoisingAutoencoder().to(device)\n",
        "criterion = nn.MSELoss()\n",
        "optimizer = optim.Adam(model.parameters(), lr=1e-3)"
      ]
    },
    {
      "cell_type": "code",
      "execution_count": 9,
      "metadata": {
        "colab": {
          "base_uri": "https://localhost:8080/"
        },
        "id": "EZjogcCWAd3Y",
        "outputId": "61a3b99d-643a-4f95-eee5-18b1c471d1ad"
      },
      "outputs": [
        {
          "output_type": "stream",
          "name": "stdout",
          "text": [
            "----------------------------------------------------------------\n",
            "        Layer (type)               Output Shape         Param #\n",
            "================================================================\n",
            "            Conv2d-1           [-1, 16, 28, 28]             160\n",
            "              ReLU-2           [-1, 16, 28, 28]               0\n",
            "         MaxPool2d-3           [-1, 16, 14, 14]               0\n",
            "            Conv2d-4            [-1, 8, 14, 14]           1,160\n",
            "              ReLU-5            [-1, 8, 14, 14]               0\n",
            "         MaxPool2d-6              [-1, 8, 7, 7]               0\n",
            "   ConvTranspose2d-7           [-1, 16, 14, 14]             528\n",
            "              ReLU-8           [-1, 16, 14, 14]               0\n",
            "   ConvTranspose2d-9            [-1, 1, 28, 28]              65\n",
            "          Sigmoid-10            [-1, 1, 28, 28]               0\n",
            "================================================================\n",
            "Total params: 1,913\n",
            "Trainable params: 1,913\n",
            "Non-trainable params: 0\n",
            "----------------------------------------------------------------\n",
            "Input size (MB): 0.00\n",
            "Forward/backward pass size (MB): 0.30\n",
            "Params size (MB): 0.01\n",
            "Estimated Total Size (MB): 0.31\n",
            "----------------------------------------------------------------\n"
          ]
        }
      ],
      "source": [
        "\n",
        "summary(model, input_size=(1, 28, 28))"
      ]
    },
    {
      "cell_type": "code",
      "execution_count": 10,
      "metadata": {
        "id": "TBj8sGYcAhVz"
      },
      "outputs": [],
      "source": [
        "def train(model, loader, criterion, optimizer, epochs=5):\n",
        "    model.train()\n",
        "    for epoch in range(epochs):\n",
        "        total_loss = 0\n",
        "        for images, _ in loader:\n",
        "            images = images.to(device)\n",
        "            noisy_images = add_noise(images).to(device)\n",
        "\n",
        "            outputs = model(noisy_images)\n",
        "            loss = criterion(outputs, images)\n",
        "\n",
        "            optimizer.zero_grad()\n",
        "            loss.backward()\n",
        "            optimizer.step()\n",
        "\n",
        "            total_loss += loss.item()\n",
        "\n",
        "        print(f\"Epoch [{epoch+1}/{epochs}], Loss: {total_loss/len(loader):.4f}\")"
      ]
    },
    {
      "cell_type": "code",
      "execution_count": 11,
      "metadata": {
        "id": "TDcwHsUSAlB9"
      },
      "outputs": [],
      "source": [
        "# Evaluate and visualize\n",
        "def visualize_denoising(model, loader, num_images=5):\n",
        "    model.eval()\n",
        "    with torch.no_grad():\n",
        "        for images, _ in loader:\n",
        "            images = images.to(device)\n",
        "            noisy_images = add_noise(images).to(device)\n",
        "            outputs = model(noisy_images)\n",
        "            break\n",
        "\n",
        "    images = images.cpu().numpy()\n",
        "    noisy_images = noisy_images.cpu().numpy()\n",
        "    outputs = outputs.cpu().numpy()\n",
        "\n",
        "\n",
        "    plt.figure(figsize=(18, 6))\n",
        "    for i in range(num_images):\n",
        "        # Original\n",
        "        ax = plt.subplot(3, num_images, i + 1)\n",
        "        plt.imshow(images[i].squeeze(), cmap='gray')\n",
        "        ax.set_title(\"Original\")\n",
        "        plt.axis(\"off\")\n",
        "\n",
        "        # Noisy\n",
        "        ax = plt.subplot(3, num_images, i + 1 + num_images)\n",
        "        plt.imshow(noisy_images[i].squeeze(), cmap='gray')\n",
        "        ax.set_title(\"Noisy\")\n",
        "        plt.axis(\"off\")\n",
        "\n",
        "        # Denoised\n",
        "        ax = plt.subplot(3, num_images, i + 1 + 2 * num_images)\n",
        "        plt.imshow(outputs[i].squeeze(), cmap='gray')\n",
        "        ax.set_title(\"Denoised\")\n",
        "        plt.axis(\"off\")\n",
        "\n",
        "    plt.tight_layout()\n",
        "    plt.show()"
      ]
    },
    {
      "cell_type": "code",
      "execution_count": 12,
      "metadata": {
        "colab": {
          "base_uri": "https://localhost:8080/",
          "height": 650
        },
        "id": "wZmOUl06AvLB",
        "outputId": "134a3a5c-7fac-4645-f9e5-d406076a1e72"
      },
      "outputs": [
        {
          "output_type": "stream",
          "name": "stdout",
          "text": [
            "Epoch [1/5], Loss: 0.0755\n",
            "Epoch [2/5], Loss: 0.0271\n",
            "Epoch [3/5], Loss: 0.0231\n",
            "Epoch [4/5], Loss: 0.0218\n",
            "Epoch [5/5], Loss: 0.0211\n"
          ]
        },
        {
          "output_type": "display_data",
          "data": {
            "text/plain": [
              "<Figure size 1800x600 with 15 Axes>"
            ],
            "image/png": "[encoded data removed]"
          },
          "metadata": {}
        }
      ],
      "source": [
        "\n",
        "train(model, train_loader, criterion, optimizer, epochs=5)\n",
        "visualize_denoising(model, test_loader)\n"
      ]
    },
    {
      "cell_type": "code",
      "execution_count": null,
      "metadata": {
        "id": "NLOrLbN6AzrQ"
      },
      "outputs": [],
      "source": []
    }
  ],
  "metadata": {
    "colab": {
      "provenance": [],
      "gpuType": "T4"
    },
    "kernelspec": {
      "display_name": "Python 3",
      "name": "python3"
    },
    "language_info": {
      "name": "python"
    },
    "accelerator": "GPU"
  },
  "nbformat": 4,
  "nbformat_minor": 0
}